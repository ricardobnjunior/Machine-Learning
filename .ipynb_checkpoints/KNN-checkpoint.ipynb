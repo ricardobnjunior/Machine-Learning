{
 "cells": [
  {
   "cell_type": "code",
   "execution_count": 4,
   "metadata": {},
   "outputs": [],
   "source": [
    "from sklearn.neighbors import KNeighborsClassifier\n",
    "import numpy as np # linear algebra\n",
    "import pandas as pd\n",
    "from sklearn.metrics import accuracy_score\n",
    "from sklearn.metrics import confusion_matrix\n",
    "import timeit"
   ]
  },
  {
   "cell_type": "code",
   "execution_count": 3,
   "metadata": {},
   "outputs": [],
   "source": [
    "names_of_data = []\n",
    "quantity_of_columns_at_csv = 2622\n",
    "for i in range(quantity_of_columns_at_csv):\n",
    "    names_of_data.append('column_'+str(i))\n",
    "    \n",
    "features_train = pd.read_csv(\"train/features_vgg-f.csv\",sep=';',names=names_of_data)\n",
    "labels_train = pd.read_csv(\"train/classes_vgg-f.csv\", names=['target'])\n",
    "\n",
    "features_test = pd.read_csv(\"test/features_vgg-f.csv\",sep=';',names=names_of_data)\n",
    "labels_test = pd.read_csv(\"test/classes_vgg-f.csv\", names=['target']) "
   ]
  },
  {
   "cell_type": "code",
   "execution_count": 5,
   "metadata": {},
   "outputs": [],
   "source": [
    "x_train = features_train\n",
    "y_train = labels_train\n",
    "\n",
    "x_test = features_test\n",
    "y_test = labels_test\n",
    "\n",
    "idx = np.random.permutation(x_train.index)\n",
    "x_train = x_train.reindex(idx)\n",
    "y_train = y_train.reindex(idx)"
   ]
  },
  {
   "cell_type": "code",
   "execution_count": 6,
   "metadata": {},
   "outputs": [
    {
     "name": "stderr",
     "output_type": "stream",
     "text": [
      "d:\\ricardo\\ambientes virtuals do python\\tf_gpu_1.13\\virtualcuda\\lib\\site-packages\\ipykernel_launcher.py:4: DataConversionWarning: A column-vector y was passed when a 1d array was expected. Please change the shape of y to (n_samples, ), for example using ravel().\n",
      "  after removing the cwd from sys.path.\n"
     ]
    }
   ],
   "source": [
    "start = timeit.default_timer()\n",
    "clf = KNeighborsClassifier(n_neighbors=1)\n",
    "\n",
    "clf.fit(x_train, y_train)\n",
    "y_pred = clf.predict(x_test)\n",
    "stop = timeit.default_timer()\n",
    "accuracy = accuracy_score(y_test, y_pred)"
   ]
  },
  {
   "cell_type": "code",
   "execution_count": 7,
   "metadata": {},
   "outputs": [
    {
     "name": "stdout",
     "output_type": "stream",
     "text": [
      "Time:  17.712627074731458\n",
      "accuracy:  0.9191489361702128\n"
     ]
    }
   ],
   "source": [
    "\n",
    "print('Time: ', stop - start)\n",
    "print('accuracy: ', accuracy)"
   ]
  },
  {
   "cell_type": "code",
   "execution_count": 8,
   "metadata": {},
   "outputs": [
    {
     "data": {
      "text/plain": [
       "array([[48,  0,  0,  0,  0,  0,  0,  0,  1,  1],\n",
       "       [ 1, 47,  1,  0,  0,  0,  0,  0,  1,  0],\n",
       "       [ 0,  1, 48,  0,  0,  0,  1,  0,  0,  0],\n",
       "       [ 0,  0,  0, 49,  1,  0,  0,  0,  0,  0],\n",
       "       [ 0,  0,  0,  0, 50,  0,  0,  0,  0,  0],\n",
       "       [ 0,  0,  1,  0,  0, 19,  0,  0,  0,  0],\n",
       "       [ 1,  1,  4,  0,  0,  0, 33,  4,  2,  5],\n",
       "       [ 0,  0,  0,  0,  0,  0,  1, 49,  0,  0],\n",
       "       [ 1,  1,  2,  0,  0,  1,  1,  1, 42,  1],\n",
       "       [ 0,  0,  2,  0,  0,  0,  1,  0,  0, 47]], dtype=int64)"
      ]
     },
     "execution_count": 8,
     "metadata": {},
     "output_type": "execute_result"
    }
   ],
   "source": [
    "cm = confusion_matrix(y_test, y_pred)\n",
    "cm"
   ]
  },
  {
   "cell_type": "code",
   "execution_count": null,
   "metadata": {},
   "outputs": [],
   "source": []
  },
  {
   "cell_type": "code",
   "execution_count": null,
   "metadata": {},
   "outputs": [],
   "source": []
  },
  {
   "cell_type": "code",
   "execution_count": null,
   "metadata": {},
   "outputs": [],
   "source": []
  }
 ],
 "metadata": {
  "kernelspec": {
   "display_name": "Python 3",
   "language": "python",
   "name": "python3"
  },
  "language_info": {
   "codemirror_mode": {
    "name": "ipython",
    "version": 3
   },
   "file_extension": ".py",
   "mimetype": "text/x-python",
   "name": "python",
   "nbconvert_exporter": "python",
   "pygments_lexer": "ipython3",
   "version": "3.6.5"
  }
 },
 "nbformat": 4,
 "nbformat_minor": 4
}
