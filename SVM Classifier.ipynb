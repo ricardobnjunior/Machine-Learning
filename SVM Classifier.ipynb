{
 "cells": [
  {
   "cell_type": "code",
   "execution_count": 1,
   "metadata": {},
   "outputs": [],
   "source": [
    "from sklearn import svm\n",
    "import numpy as np # linear algebra\n",
    "import pandas as pd\n",
    "from sklearn.metrics import accuracy_score\n",
    "import timeit"
   ]
  },
  {
   "cell_type": "code",
   "execution_count": 2,
   "metadata": {},
   "outputs": [],
   "source": [
    "names_of_data = []\n",
    "quantity_of_columns_at_csv = 2622\n",
    "for i in range(quantity_of_columns_at_csv):\n",
    "    names_of_data.append('column_'+str(i))\n",
    "    \n",
    "features_train = pd.read_csv(\"train/features_vgg-f.csv\",sep=';',names=names_of_data)\n",
    "labels_train = pd.read_csv(\"train/classes_vgg-f.csv\", names=['target'])\n",
    "\n",
    "features_test = pd.read_csv(\"test/features_vgg-f.csv\",sep=';',names=names_of_data)\n",
    "labels_test = pd.read_csv(\"test/classes_vgg-f.csv\", names=['target']) "
   ]
  },
  {
   "cell_type": "code",
   "execution_count": 3,
   "metadata": {},
   "outputs": [],
   "source": [
    "x_train = features_train\n",
    "y_train = labels_train\n",
    "\n",
    "x_test = features_test\n",
    "y_test = labels_test\n",
    "\n",
    "idx = np.random.permutation(x_train.index)\n",
    "x_train = x_train.reindex(idx)\n",
    "y_train = y_train.reindex(idx)"
   ]
  },
  {
   "cell_type": "code",
   "execution_count": 4,
   "metadata": {},
   "outputs": [
    {
     "name": "stderr",
     "output_type": "stream",
     "text": [
      "d:\\ricardo\\ambientes virtuals do python\\tf_gpu_1.13\\virtualcuda\\lib\\site-packages\\sklearn\\utils\\validation.py:724: DataConversionWarning: A column-vector y was passed when a 1d array was expected. Please change the shape of y to (n_samples, ), for example using ravel().\n",
      "  y = column_or_1d(y, warn=True)\n"
     ]
    }
   ],
   "source": [
    "start = timeit.default_timer()\n",
    "\n",
    "clf = svm.SVC(kernel='linear')\n",
    "\n",
    "clf.fit(x_train, y_train)\n",
    "y_pred = clf.predict(x_test)\n",
    "stop = timeit.default_timer()\n",
    "accuracy = accuracy_score(y_test, y_pred)"
   ]
  },
  {
   "cell_type": "code",
   "execution_count": 5,
   "metadata": {},
   "outputs": [
    {
     "name": "stdout",
     "output_type": "stream",
     "text": [
      "Time:  88.20492136993963\n",
      "accuracy:  0.9382978723404255\n"
     ]
    }
   ],
   "source": [
    "print('Time: ', stop - start)\n",
    "print('accuracy: ', accuracy)"
   ]
  },
  {
   "cell_type": "code",
   "execution_count": null,
   "metadata": {},
   "outputs": [],
   "source": []
  },
  {
   "cell_type": "code",
   "execution_count": null,
   "metadata": {},
   "outputs": [],
   "source": []
  }
 ],
 "metadata": {
  "kernelspec": {
   "display_name": "Python 3",
   "language": "python",
   "name": "python3"
  },
  "language_info": {
   "codemirror_mode": {
    "name": "ipython",
    "version": 3
   },
   "file_extension": ".py",
   "mimetype": "text/x-python",
   "name": "python",
   "nbconvert_exporter": "python",
   "pygments_lexer": "ipython3",
   "version": "3.6.5"
  }
 },
 "nbformat": 4,
 "nbformat_minor": 4
}
